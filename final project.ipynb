{
 "cells": [
  {
   "cell_type": "markdown",
   "id": "88d66e7e-9766-46d4-ae27-d9b461d29037",
   "metadata": {},
   "source": [
    "The next questions are about meals provided by community or government programs. In the past 12 months, did {you/SP} receive any meals delivered to {your/his/her} home from community programs, \"Meals on Wheels\", or any other programs? **response of 1 is yes and 2 is no**"
   ]
  },
  {
   "cell_type": "code",
   "execution_count": 1,
   "id": "e15df3e1-1f42-43f4-b0d8-e6c14981508f",
   "metadata": {},
   "outputs": [],
   "source": [
    "import pandas as pd\n",
    "import matplotlib.pyplot as plt"
   ]
  },
  {
   "cell_type": "markdown",
   "id": "ba5bf68d-a458-49fa-a7e7-795b45302ce6",
   "metadata": {},
   "source": [
    "Data from 2003-2004"
   ]
  },
  {
   "cell_type": "code",
   "execution_count": 24,
   "id": "ca4d1298-82dd-4f57-b9ae-2b546f9c702e",
   "metadata": {},
   "outputs": [
    {
     "name": "stdout",
     "output_type": "stream",
     "text": [
      "mean: DBQ301    1.948974\n",
      "dtype: float64\n"
     ]
    },
    {
     "data": {
      "text/html": [
       "<div>\n",
       "<style scoped>\n",
       "    .dataframe tbody tr th:only-of-type {\n",
       "        vertical-align: middle;\n",
       "    }\n",
       "\n",
       "    .dataframe tbody tr th {\n",
       "        vertical-align: top;\n",
       "    }\n",
       "\n",
       "    .dataframe thead th {\n",
       "        text-align: right;\n",
       "    }\n",
       "</style>\n",
       "<table border=\"1\" class=\"dataframe\">\n",
       "  <thead>\n",
       "    <tr style=\"text-align: right;\">\n",
       "      <th></th>\n",
       "      <th>SEQN</th>\n",
       "      <th>DBQ301</th>\n",
       "    </tr>\n",
       "  </thead>\n",
       "  <tbody>\n",
       "    <tr>\n",
       "      <th>7</th>\n",
       "      <td>21012.0</td>\n",
       "      <td>2.0</td>\n",
       "    </tr>\n",
       "    <tr>\n",
       "      <th>10</th>\n",
       "      <td>21015.0</td>\n",
       "      <td>2.0</td>\n",
       "    </tr>\n",
       "    <tr>\n",
       "      <th>16</th>\n",
       "      <td>21021.0</td>\n",
       "      <td>2.0</td>\n",
       "    </tr>\n",
       "    <tr>\n",
       "      <th>31</th>\n",
       "      <td>21036.0</td>\n",
       "      <td>2.0</td>\n",
       "    </tr>\n",
       "    <tr>\n",
       "      <th>32</th>\n",
       "      <td>21037.0</td>\n",
       "      <td>2.0</td>\n",
       "    </tr>\n",
       "    <tr>\n",
       "      <th>...</th>\n",
       "      <td>...</td>\n",
       "      <td>...</td>\n",
       "    </tr>\n",
       "    <tr>\n",
       "      <th>10093</th>\n",
       "      <td>31098.0</td>\n",
       "      <td>2.0</td>\n",
       "    </tr>\n",
       "    <tr>\n",
       "      <th>10095</th>\n",
       "      <td>31100.0</td>\n",
       "      <td>2.0</td>\n",
       "    </tr>\n",
       "    <tr>\n",
       "      <th>10103</th>\n",
       "      <td>31108.0</td>\n",
       "      <td>2.0</td>\n",
       "    </tr>\n",
       "    <tr>\n",
       "      <th>10116</th>\n",
       "      <td>31121.0</td>\n",
       "      <td>2.0</td>\n",
       "    </tr>\n",
       "    <tr>\n",
       "      <th>10118</th>\n",
       "      <td>31123.0</td>\n",
       "      <td>2.0</td>\n",
       "    </tr>\n",
       "  </tbody>\n",
       "</table>\n",
       "<p>1901 rows × 2 columns</p>\n",
       "</div>"
      ],
      "text/plain": [
       "          SEQN  DBQ301\n",
       "7      21012.0     2.0\n",
       "10     21015.0     2.0\n",
       "16     21021.0     2.0\n",
       "31     21036.0     2.0\n",
       "32     21037.0     2.0\n",
       "...        ...     ...\n",
       "10093  31098.0     2.0\n",
       "10095  31100.0     2.0\n",
       "10103  31108.0     2.0\n",
       "10116  31121.0     2.0\n",
       "10118  31123.0     2.0\n",
       "\n",
       "[1901 rows x 2 columns]"
      ]
     },
     "execution_count": 24,
     "metadata": {},
     "output_type": "execute_result"
    }
   ],
   "source": [
    "df2004_raw = pd.read_sas('DBQ_C.xpt')\n",
    "df2004 = df2004_raw[['SEQN', 'DBQ301']]\n",
    "df2004_clean = df2004[df2004['DBQ301'] <= 2]\n",
    "df2004_final = df2004_clean.dropna()\n",
    "print(f\"mean: {df2004_final[['DBQ301']].mean()}\")\n",
    "df2004_final"
   ]
  },
  {
   "cell_type": "code",
   "execution_count": 25,
   "id": "e7588a41-907a-4e8a-ae2e-7995b908847f",
   "metadata": {},
   "outputs": [
    {
     "name": "stdout",
     "output_type": "stream",
     "text": [
      "5.102577590741715\n"
     ]
    }
   ],
   "source": [
    "count_yes_2004 = len(df2004_final[df2004_final['DBQ301'] == 1])\n",
    "count_no_2004 = len(df2004_final[df2004_final['DBQ301'] == 2])\n",
    "percentage_of_yes_2004 = 100*count_yes_2004/(count_yes_2004 + count_no_2004)\n",
    "print(percentage_of_yes_2004)"
   ]
  },
  {
   "cell_type": "markdown",
   "id": "f1181658-f76c-4303-8cda-39f37fc57786",
   "metadata": {},
   "source": [
    "Data from 2005-2006"
   ]
  },
  {
   "cell_type": "code",
   "execution_count": 28,
   "id": "598a0a74-9a53-4e6a-84cc-bbb1fb14efeb",
   "metadata": {},
   "outputs": [
    {
     "name": "stdout",
     "output_type": "stream",
     "text": [
      "mean: DBQ301    1.964308\n",
      "dtype: float64\n"
     ]
    },
    {
     "data": {
      "text/html": [
       "<div>\n",
       "<style scoped>\n",
       "    .dataframe tbody tr th:only-of-type {\n",
       "        vertical-align: middle;\n",
       "    }\n",
       "\n",
       "    .dataframe tbody tr th {\n",
       "        vertical-align: top;\n",
       "    }\n",
       "\n",
       "    .dataframe thead th {\n",
       "        text-align: right;\n",
       "    }\n",
       "</style>\n",
       "<table border=\"1\" class=\"dataframe\">\n",
       "  <thead>\n",
       "    <tr style=\"text-align: right;\">\n",
       "      <th></th>\n",
       "      <th>SEQN</th>\n",
       "      <th>DBQ301</th>\n",
       "    </tr>\n",
       "  </thead>\n",
       "  <tbody>\n",
       "    <tr>\n",
       "      <th>3</th>\n",
       "      <td>31130.0</td>\n",
       "      <td>2.0</td>\n",
       "    </tr>\n",
       "    <tr>\n",
       "      <th>5</th>\n",
       "      <td>31132.0</td>\n",
       "      <td>2.0</td>\n",
       "    </tr>\n",
       "    <tr>\n",
       "      <th>7</th>\n",
       "      <td>31134.0</td>\n",
       "      <td>2.0</td>\n",
       "    </tr>\n",
       "    <tr>\n",
       "      <th>22</th>\n",
       "      <td>31149.0</td>\n",
       "      <td>2.0</td>\n",
       "    </tr>\n",
       "    <tr>\n",
       "      <th>23</th>\n",
       "      <td>31150.0</td>\n",
       "      <td>2.0</td>\n",
       "    </tr>\n",
       "    <tr>\n",
       "      <th>...</th>\n",
       "      <td>...</td>\n",
       "      <td>...</td>\n",
       "    </tr>\n",
       "    <tr>\n",
       "      <th>10327</th>\n",
       "      <td>41454.0</td>\n",
       "      <td>2.0</td>\n",
       "    </tr>\n",
       "    <tr>\n",
       "      <th>10333</th>\n",
       "      <td>41460.0</td>\n",
       "      <td>2.0</td>\n",
       "    </tr>\n",
       "    <tr>\n",
       "      <th>10334</th>\n",
       "      <td>41461.0</td>\n",
       "      <td>2.0</td>\n",
       "    </tr>\n",
       "    <tr>\n",
       "      <th>10337</th>\n",
       "      <td>41464.0</td>\n",
       "      <td>2.0</td>\n",
       "    </tr>\n",
       "    <tr>\n",
       "      <th>10341</th>\n",
       "      <td>41468.0</td>\n",
       "      <td>2.0</td>\n",
       "    </tr>\n",
       "  </tbody>\n",
       "</table>\n",
       "<p>1569 rows × 2 columns</p>\n",
       "</div>"
      ],
      "text/plain": [
       "          SEQN  DBQ301\n",
       "3      31130.0     2.0\n",
       "5      31132.0     2.0\n",
       "7      31134.0     2.0\n",
       "22     31149.0     2.0\n",
       "23     31150.0     2.0\n",
       "...        ...     ...\n",
       "10327  41454.0     2.0\n",
       "10333  41460.0     2.0\n",
       "10334  41461.0     2.0\n",
       "10337  41464.0     2.0\n",
       "10341  41468.0     2.0\n",
       "\n",
       "[1569 rows x 2 columns]"
      ]
     },
     "execution_count": 28,
     "metadata": {},
     "output_type": "execute_result"
    }
   ],
   "source": [
    "df2006_raw = pd.read_sas('DBQ_D.xpt')\n",
    "df2006 = df2006_raw[['SEQN', 'DBQ301']]\n",
    "df2006_clean = df2006[df2006['DBQ301'] <= 2]\n",
    "df2006_final = df2006_clean.dropna()\n",
    "print(f\"mean: {df2006_final[['DBQ301']].mean()}\")\n",
    "df2006_final"
   ]
  },
  {
   "cell_type": "code",
   "execution_count": 29,
   "id": "02b08dd1-7b01-4935-a372-6aba98695bab",
   "metadata": {},
   "outputs": [
    {
     "name": "stdout",
     "output_type": "stream",
     "text": [
      "3.5691523263224982\n"
     ]
    }
   ],
   "source": [
    "count_yes_2006 = len(df2006_final[df2006_final['DBQ301'] == 1])\n",
    "count_no_2006 = len(df2006_final[df2006_final['DBQ301'] == 2])\n",
    "percentage_of_yes_2006 = 100*count_yes_2006/(count_yes_2006 + count_no_2006)\n",
    "print(percentage_of_yes_2006)"
   ]
  },
  {
   "cell_type": "markdown",
   "id": "27f21dd4-f1c2-415f-872c-731a20263f6a",
   "metadata": {},
   "source": [
    "Data from 2007-2008"
   ]
  },
  {
   "cell_type": "code",
   "execution_count": 30,
   "id": "19a5603e-3d10-479e-8dd7-aba284cf7e9e",
   "metadata": {},
   "outputs": [
    {
     "name": "stdout",
     "output_type": "stream",
     "text": [
      "mean: DBQ301    1.966543\n",
      "dtype: float64\n"
     ]
    },
    {
     "data": {
      "text/html": [
       "<div>\n",
       "<style scoped>\n",
       "    .dataframe tbody tr th:only-of-type {\n",
       "        vertical-align: middle;\n",
       "    }\n",
       "\n",
       "    .dataframe tbody tr th {\n",
       "        vertical-align: top;\n",
       "    }\n",
       "\n",
       "    .dataframe thead th {\n",
       "        text-align: right;\n",
       "    }\n",
       "</style>\n",
       "<table border=\"1\" class=\"dataframe\">\n",
       "  <thead>\n",
       "    <tr style=\"text-align: right;\">\n",
       "      <th></th>\n",
       "      <th>SEQN</th>\n",
       "      <th>DBQ301</th>\n",
       "    </tr>\n",
       "  </thead>\n",
       "  <tbody>\n",
       "    <tr>\n",
       "      <th>0</th>\n",
       "      <td>41475.0</td>\n",
       "      <td>2.0</td>\n",
       "    </tr>\n",
       "    <tr>\n",
       "      <th>2</th>\n",
       "      <td>41477.0</td>\n",
       "      <td>2.0</td>\n",
       "    </tr>\n",
       "    <tr>\n",
       "      <th>7</th>\n",
       "      <td>41482.0</td>\n",
       "      <td>2.0</td>\n",
       "    </tr>\n",
       "    <tr>\n",
       "      <th>8</th>\n",
       "      <td>41483.0</td>\n",
       "      <td>2.0</td>\n",
       "    </tr>\n",
       "    <tr>\n",
       "      <th>11</th>\n",
       "      <td>41486.0</td>\n",
       "      <td>2.0</td>\n",
       "    </tr>\n",
       "    <tr>\n",
       "      <th>...</th>\n",
       "      <td>...</td>\n",
       "      <td>...</td>\n",
       "    </tr>\n",
       "    <tr>\n",
       "      <th>10141</th>\n",
       "      <td>51616.0</td>\n",
       "      <td>2.0</td>\n",
       "    </tr>\n",
       "    <tr>\n",
       "      <th>10142</th>\n",
       "      <td>51617.0</td>\n",
       "      <td>2.0</td>\n",
       "    </tr>\n",
       "    <tr>\n",
       "      <th>10144</th>\n",
       "      <td>51619.0</td>\n",
       "      <td>2.0</td>\n",
       "    </tr>\n",
       "    <tr>\n",
       "      <th>10147</th>\n",
       "      <td>51622.0</td>\n",
       "      <td>2.0</td>\n",
       "    </tr>\n",
       "    <tr>\n",
       "      <th>10148</th>\n",
       "      <td>51623.0</td>\n",
       "      <td>2.0</td>\n",
       "    </tr>\n",
       "  </tbody>\n",
       "</table>\n",
       "<p>2152 rows × 2 columns</p>\n",
       "</div>"
      ],
      "text/plain": [
       "          SEQN  DBQ301\n",
       "0      41475.0     2.0\n",
       "2      41477.0     2.0\n",
       "7      41482.0     2.0\n",
       "8      41483.0     2.0\n",
       "11     41486.0     2.0\n",
       "...        ...     ...\n",
       "10141  51616.0     2.0\n",
       "10142  51617.0     2.0\n",
       "10144  51619.0     2.0\n",
       "10147  51622.0     2.0\n",
       "10148  51623.0     2.0\n",
       "\n",
       "[2152 rows x 2 columns]"
      ]
     },
     "execution_count": 30,
     "metadata": {},
     "output_type": "execute_result"
    }
   ],
   "source": [
    "df2008_raw = pd.read_sas('DBQ_E.xpt')\n",
    "df2008 = df2008_raw[['SEQN', 'DBQ301']]\n",
    "df2008_clean = df2008[df2008['DBQ301'] <= 2]\n",
    "df2008_final = df2008_clean.dropna()\n",
    "print(f\"mean: {df2008_final[['DBQ301']].mean()}\")\n",
    "df2008_final"
   ]
  },
  {
   "cell_type": "code",
   "execution_count": 31,
   "id": "d9e434a8-ddf8-4196-8172-375430d83b20",
   "metadata": {},
   "outputs": [
    {
     "name": "stdout",
     "output_type": "stream",
     "text": [
      "3.345724907063197\n"
     ]
    }
   ],
   "source": [
    "count_yes_2008 = len(df2008_final[df2008_final['DBQ301'] == 1])\n",
    "count_no_2008 = len(df2008_final[df2008_final['DBQ301'] == 2])\n",
    "percentage_of_yes_2008 = 100*count_yes_2008/(count_yes_2008 + count_no_2008)\n",
    "print(percentage_of_yes_2008)"
   ]
  },
  {
   "cell_type": "markdown",
   "id": "d2f67e81-ca74-4129-86f2-144d1a8699d1",
   "metadata": {},
   "source": [
    "Data from 2009-2010"
   ]
  },
  {
   "cell_type": "code",
   "execution_count": 8,
   "id": "5cb3badd-6e74-45fd-9571-997ce415b7b5",
   "metadata": {},
   "outputs": [
    {
     "name": "stdout",
     "output_type": "stream",
     "text": [
      "mean: DBQ301    1.972973\n",
      "dtype: float64\n"
     ]
    },
    {
     "data": {
      "text/html": [
       "<div>\n",
       "<style scoped>\n",
       "    .dataframe tbody tr th:only-of-type {\n",
       "        vertical-align: middle;\n",
       "    }\n",
       "\n",
       "    .dataframe tbody tr th {\n",
       "        vertical-align: top;\n",
       "    }\n",
       "\n",
       "    .dataframe thead th {\n",
       "        text-align: right;\n",
       "    }\n",
       "</style>\n",
       "<table border=\"1\" class=\"dataframe\">\n",
       "  <thead>\n",
       "    <tr style=\"text-align: right;\">\n",
       "      <th></th>\n",
       "      <th>SEQN</th>\n",
       "      <th>DBQ301</th>\n",
       "    </tr>\n",
       "  </thead>\n",
       "  <tbody>\n",
       "    <tr>\n",
       "      <th>4</th>\n",
       "      <td>51628.0</td>\n",
       "      <td>2.0</td>\n",
       "    </tr>\n",
       "    <tr>\n",
       "      <th>9</th>\n",
       "      <td>51633.0</td>\n",
       "      <td>2.0</td>\n",
       "    </tr>\n",
       "    <tr>\n",
       "      <th>11</th>\n",
       "      <td>51635.0</td>\n",
       "      <td>2.0</td>\n",
       "    </tr>\n",
       "    <tr>\n",
       "      <th>21</th>\n",
       "      <td>51645.0</td>\n",
       "      <td>2.0</td>\n",
       "    </tr>\n",
       "    <tr>\n",
       "      <th>30</th>\n",
       "      <td>51654.0</td>\n",
       "      <td>2.0</td>\n",
       "    </tr>\n",
       "    <tr>\n",
       "      <th>...</th>\n",
       "      <td>...</td>\n",
       "      <td>...</td>\n",
       "    </tr>\n",
       "    <tr>\n",
       "      <th>10512</th>\n",
       "      <td>62136.0</td>\n",
       "      <td>2.0</td>\n",
       "    </tr>\n",
       "    <tr>\n",
       "      <th>10524</th>\n",
       "      <td>62148.0</td>\n",
       "      <td>2.0</td>\n",
       "    </tr>\n",
       "    <tr>\n",
       "      <th>10525</th>\n",
       "      <td>62149.0</td>\n",
       "      <td>2.0</td>\n",
       "    </tr>\n",
       "    <tr>\n",
       "      <th>10534</th>\n",
       "      <td>62158.0</td>\n",
       "      <td>2.0</td>\n",
       "    </tr>\n",
       "    <tr>\n",
       "      <th>10536</th>\n",
       "      <td>62160.0</td>\n",
       "      <td>2.0</td>\n",
       "    </tr>\n",
       "  </tbody>\n",
       "</table>\n",
       "<p>2072 rows × 2 columns</p>\n",
       "</div>"
      ],
      "text/plain": [
       "          SEQN  DBQ301\n",
       "4      51628.0     2.0\n",
       "9      51633.0     2.0\n",
       "11     51635.0     2.0\n",
       "21     51645.0     2.0\n",
       "30     51654.0     2.0\n",
       "...        ...     ...\n",
       "10512  62136.0     2.0\n",
       "10524  62148.0     2.0\n",
       "10525  62149.0     2.0\n",
       "10534  62158.0     2.0\n",
       "10536  62160.0     2.0\n",
       "\n",
       "[2072 rows x 2 columns]"
      ]
     },
     "execution_count": 8,
     "metadata": {},
     "output_type": "execute_result"
    }
   ],
   "source": [
    "df2010_raw = pd.read_sas('DBQ_F.xpt')\n",
    "df2010 = df2010_raw[['SEQN', 'DBQ301']]\n",
    "df2010_clean = df2010[df2010['DBQ301'] <= 2]\n",
    "df2010_final = df2010_clean.dropna()\n",
    "print(f\"mean: {df2010_final[['DBQ301']].mean()}\")\n",
    "df2010_final"
   ]
  },
  {
   "cell_type": "code",
   "execution_count": 22,
   "id": "905c198c-2e3f-4b9b-8bef-9d052e3fa6cb",
   "metadata": {},
   "outputs": [
    {
     "name": "stdout",
     "output_type": "stream",
     "text": [
      "2.7027027027027026\n"
     ]
    }
   ],
   "source": [
    "count_yes_2010 = len(df2010_final[df2010_final['DBQ301'] == 1])\n",
    "count_no_2010 = len(df2010_final[df2010_final['DBQ301'] == 2])\n",
    "percentage_of_yes_2010 = 100*count_yes_2010/(count_yes_2010 + count_no_2010)\n",
    "print(percentage_of_yes_2010)"
   ]
  },
  {
   "cell_type": "markdown",
   "id": "91778ed4-aac1-4ee7-ae1c-96780563ce14",
   "metadata": {},
   "source": [
    "Data from 2011-2012"
   ]
  },
  {
   "cell_type": "code",
   "execution_count": 10,
   "id": "d53ac945-f3ed-4397-9bf7-cdeaa92672f2",
   "metadata": {},
   "outputs": [
    {
     "name": "stdout",
     "output_type": "stream",
     "text": [
      "mean: DBQ301    1.959732\n",
      "dtype: float64\n"
     ]
    },
    {
     "data": {
      "text/html": [
       "<div>\n",
       "<style scoped>\n",
       "    .dataframe tbody tr th:only-of-type {\n",
       "        vertical-align: middle;\n",
       "    }\n",
       "\n",
       "    .dataframe tbody tr th {\n",
       "        vertical-align: top;\n",
       "    }\n",
       "\n",
       "    .dataframe thead th {\n",
       "        text-align: right;\n",
       "    }\n",
       "</style>\n",
       "<table border=\"1\" class=\"dataframe\">\n",
       "  <thead>\n",
       "    <tr style=\"text-align: right;\">\n",
       "      <th></th>\n",
       "      <th>SEQN</th>\n",
       "      <th>DBQ301</th>\n",
       "    </tr>\n",
       "  </thead>\n",
       "  <tbody>\n",
       "    <tr>\n",
       "      <th>13</th>\n",
       "      <td>62174.0</td>\n",
       "      <td>2.0</td>\n",
       "    </tr>\n",
       "    <tr>\n",
       "      <th>17</th>\n",
       "      <td>62178.0</td>\n",
       "      <td>1.0</td>\n",
       "    </tr>\n",
       "    <tr>\n",
       "      <th>21</th>\n",
       "      <td>62182.0</td>\n",
       "      <td>2.0</td>\n",
       "    </tr>\n",
       "    <tr>\n",
       "      <th>30</th>\n",
       "      <td>62191.0</td>\n",
       "      <td>1.0</td>\n",
       "    </tr>\n",
       "    <tr>\n",
       "      <th>48</th>\n",
       "      <td>62209.0</td>\n",
       "      <td>2.0</td>\n",
       "    </tr>\n",
       "    <tr>\n",
       "      <th>...</th>\n",
       "      <td>...</td>\n",
       "      <td>...</td>\n",
       "    </tr>\n",
       "    <tr>\n",
       "      <th>9737</th>\n",
       "      <td>71898.0</td>\n",
       "      <td>2.0</td>\n",
       "    </tr>\n",
       "    <tr>\n",
       "      <th>9741</th>\n",
       "      <td>71902.0</td>\n",
       "      <td>2.0</td>\n",
       "    </tr>\n",
       "    <tr>\n",
       "      <th>9746</th>\n",
       "      <td>71907.0</td>\n",
       "      <td>2.0</td>\n",
       "    </tr>\n",
       "    <tr>\n",
       "      <th>9747</th>\n",
       "      <td>71908.0</td>\n",
       "      <td>2.0</td>\n",
       "    </tr>\n",
       "    <tr>\n",
       "      <th>9754</th>\n",
       "      <td>71915.0</td>\n",
       "      <td>2.0</td>\n",
       "    </tr>\n",
       "  </tbody>\n",
       "</table>\n",
       "<p>1788 rows × 2 columns</p>\n",
       "</div>"
      ],
      "text/plain": [
       "         SEQN  DBQ301\n",
       "13    62174.0     2.0\n",
       "17    62178.0     1.0\n",
       "21    62182.0     2.0\n",
       "30    62191.0     1.0\n",
       "48    62209.0     2.0\n",
       "...       ...     ...\n",
       "9737  71898.0     2.0\n",
       "9741  71902.0     2.0\n",
       "9746  71907.0     2.0\n",
       "9747  71908.0     2.0\n",
       "9754  71915.0     2.0\n",
       "\n",
       "[1788 rows x 2 columns]"
      ]
     },
     "execution_count": 10,
     "metadata": {},
     "output_type": "execute_result"
    }
   ],
   "source": [
    "df2012_raw = pd.read_sas('DBQ_G.xpt')\n",
    "df2012 = df2012_raw[['SEQN', 'DBQ301']]\n",
    "df2012_clean = df2012[df2012['DBQ301'] <= 2]\n",
    "df2012_final = df2012_clean.dropna()\n",
    "print(f\"mean: {df2012_final[['DBQ301']].mean()}\")\n",
    "df2012_final"
   ]
  },
  {
   "cell_type": "code",
   "execution_count": 23,
   "id": "9b91395c-cd2e-4a25-b509-6537865379f7",
   "metadata": {},
   "outputs": [
    {
     "name": "stdout",
     "output_type": "stream",
     "text": [
      "4.026845637583893\n"
     ]
    }
   ],
   "source": [
    "count_yes_2012 = len(df2012_final[df2012_final['DBQ301'] == 1])\n",
    "count_no_2012 = len(df2012_final[df2012_final['DBQ301'] == 2])\n",
    "percentage_of_yes_2012 = 100*count_yes_2012/(count_yes_2012 + count_no_2012)\n",
    "print(percentage_of_yes_2012)"
   ]
  },
  {
   "cell_type": "markdown",
   "id": "fd179700-7f32-456a-8130-99e172931440",
   "metadata": {},
   "source": [
    "Data from 2013-2014"
   ]
  },
  {
   "cell_type": "code",
   "execution_count": 32,
   "id": "5e34a5ca-f1e8-4270-8268-ed39396390c8",
   "metadata": {},
   "outputs": [
    {
     "name": "stdout",
     "output_type": "stream",
     "text": [
      "mean: DBQ301    1.961957\n",
      "dtype: float64\n"
     ]
    },
    {
     "data": {
      "text/html": [
       "<div>\n",
       "<style scoped>\n",
       "    .dataframe tbody tr th:only-of-type {\n",
       "        vertical-align: middle;\n",
       "    }\n",
       "\n",
       "    .dataframe tbody tr th {\n",
       "        vertical-align: top;\n",
       "    }\n",
       "\n",
       "    .dataframe thead th {\n",
       "        text-align: right;\n",
       "    }\n",
       "</style>\n",
       "<table border=\"1\" class=\"dataframe\">\n",
       "  <thead>\n",
       "    <tr style=\"text-align: right;\">\n",
       "      <th></th>\n",
       "      <th>SEQN</th>\n",
       "      <th>DBQ301</th>\n",
       "    </tr>\n",
       "  </thead>\n",
       "  <tbody>\n",
       "    <tr>\n",
       "      <th>0</th>\n",
       "      <td>73557.0</td>\n",
       "      <td>2.0</td>\n",
       "    </tr>\n",
       "    <tr>\n",
       "      <th>2</th>\n",
       "      <td>73559.0</td>\n",
       "      <td>2.0</td>\n",
       "    </tr>\n",
       "    <tr>\n",
       "      <th>4</th>\n",
       "      <td>73561.0</td>\n",
       "      <td>2.0</td>\n",
       "    </tr>\n",
       "    <tr>\n",
       "      <th>7</th>\n",
       "      <td>73564.0</td>\n",
       "      <td>2.0</td>\n",
       "    </tr>\n",
       "    <tr>\n",
       "      <th>10</th>\n",
       "      <td>73567.0</td>\n",
       "      <td>2.0</td>\n",
       "    </tr>\n",
       "    <tr>\n",
       "      <th>...</th>\n",
       "      <td>...</td>\n",
       "      <td>...</td>\n",
       "    </tr>\n",
       "    <tr>\n",
       "      <th>10155</th>\n",
       "      <td>83712.0</td>\n",
       "      <td>2.0</td>\n",
       "    </tr>\n",
       "    <tr>\n",
       "      <th>10160</th>\n",
       "      <td>83717.0</td>\n",
       "      <td>2.0</td>\n",
       "    </tr>\n",
       "    <tr>\n",
       "      <th>10161</th>\n",
       "      <td>83718.0</td>\n",
       "      <td>1.0</td>\n",
       "    </tr>\n",
       "    <tr>\n",
       "      <th>10166</th>\n",
       "      <td>83723.0</td>\n",
       "      <td>2.0</td>\n",
       "    </tr>\n",
       "    <tr>\n",
       "      <th>10167</th>\n",
       "      <td>83724.0</td>\n",
       "      <td>2.0</td>\n",
       "    </tr>\n",
       "  </tbody>\n",
       "</table>\n",
       "<p>1840 rows × 2 columns</p>\n",
       "</div>"
      ],
      "text/plain": [
       "          SEQN  DBQ301\n",
       "0      73557.0     2.0\n",
       "2      73559.0     2.0\n",
       "4      73561.0     2.0\n",
       "7      73564.0     2.0\n",
       "10     73567.0     2.0\n",
       "...        ...     ...\n",
       "10155  83712.0     2.0\n",
       "10160  83717.0     2.0\n",
       "10161  83718.0     1.0\n",
       "10166  83723.0     2.0\n",
       "10167  83724.0     2.0\n",
       "\n",
       "[1840 rows x 2 columns]"
      ]
     },
     "execution_count": 32,
     "metadata": {},
     "output_type": "execute_result"
    }
   ],
   "source": [
    "df2014_raw = pd.read_sas('DBQ_H.xpt')\n",
    "df2014 = df2014_raw[['SEQN', 'DBQ301']]\n",
    "df2014_clean = df2014[df2014['DBQ301'] <= 2]\n",
    "df2014_final = df2014_clean.dropna()\n",
    "print(f\"mean: {df2014_final[['DBQ301']].mean()}\")\n",
    "df2014_final"
   ]
  },
  {
   "cell_type": "code",
   "execution_count": 33,
   "id": "0e3b4a4a-592c-42f0-87f2-767540c807b4",
   "metadata": {},
   "outputs": [
    {
     "name": "stdout",
     "output_type": "stream",
     "text": [
      "3.8043478260869565\n"
     ]
    }
   ],
   "source": [
    "count_yes_2014 = len(df2014_final[df2014_final['DBQ301'] == 1])\n",
    "count_no_2014 = len(df2014_final[df2014_final['DBQ301'] == 2])\n",
    "percentage_of_yes_2014 = 100*count_yes_2014/(count_yes_2014 + count_no_2014)\n",
    "print(percentage_of_yes_2014)"
   ]
  },
  {
   "cell_type": "markdown",
   "id": "9cfd315a-fb01-4c49-879a-f773adc6810e",
   "metadata": {},
   "source": [
    "Data from 2015-2016"
   ]
  },
  {
   "cell_type": "code",
   "execution_count": 34,
   "id": "758f586b-95c4-4b7c-96ab-03035e607936",
   "metadata": {},
   "outputs": [
    {
     "name": "stdout",
     "output_type": "stream",
     "text": [
      "mean: DBQ301    1.952632\n",
      "dtype: float64\n"
     ]
    },
    {
     "data": {
      "text/html": [
       "<div>\n",
       "<style scoped>\n",
       "    .dataframe tbody tr th:only-of-type {\n",
       "        vertical-align: middle;\n",
       "    }\n",
       "\n",
       "    .dataframe tbody tr th {\n",
       "        vertical-align: top;\n",
       "    }\n",
       "\n",
       "    .dataframe thead th {\n",
       "        text-align: right;\n",
       "    }\n",
       "</style>\n",
       "<table border=\"1\" class=\"dataframe\">\n",
       "  <thead>\n",
       "    <tr style=\"text-align: right;\">\n",
       "      <th></th>\n",
       "      <th>SEQN</th>\n",
       "      <th>DBQ301</th>\n",
       "    </tr>\n",
       "  </thead>\n",
       "  <tbody>\n",
       "    <tr>\n",
       "      <th>0</th>\n",
       "      <td>83732.0</td>\n",
       "      <td>2.0</td>\n",
       "    </tr>\n",
       "    <tr>\n",
       "      <th>2</th>\n",
       "      <td>83734.0</td>\n",
       "      <td>2.0</td>\n",
       "    </tr>\n",
       "    <tr>\n",
       "      <th>5</th>\n",
       "      <td>83737.0</td>\n",
       "      <td>2.0</td>\n",
       "    </tr>\n",
       "    <tr>\n",
       "      <th>22</th>\n",
       "      <td>83754.0</td>\n",
       "      <td>2.0</td>\n",
       "    </tr>\n",
       "    <tr>\n",
       "      <th>23</th>\n",
       "      <td>83755.0</td>\n",
       "      <td>2.0</td>\n",
       "    </tr>\n",
       "    <tr>\n",
       "      <th>...</th>\n",
       "      <td>...</td>\n",
       "      <td>...</td>\n",
       "    </tr>\n",
       "    <tr>\n",
       "      <th>9940</th>\n",
       "      <td>93672.0</td>\n",
       "      <td>2.0</td>\n",
       "    </tr>\n",
       "    <tr>\n",
       "      <th>9947</th>\n",
       "      <td>93679.0</td>\n",
       "      <td>2.0</td>\n",
       "    </tr>\n",
       "    <tr>\n",
       "      <th>9957</th>\n",
       "      <td>93689.0</td>\n",
       "      <td>2.0</td>\n",
       "    </tr>\n",
       "    <tr>\n",
       "      <th>9963</th>\n",
       "      <td>93695.0</td>\n",
       "      <td>2.0</td>\n",
       "    </tr>\n",
       "    <tr>\n",
       "      <th>9965</th>\n",
       "      <td>93697.0</td>\n",
       "      <td>1.0</td>\n",
       "    </tr>\n",
       "  </tbody>\n",
       "</table>\n",
       "<p>1900 rows × 2 columns</p>\n",
       "</div>"
      ],
      "text/plain": [
       "         SEQN  DBQ301\n",
       "0     83732.0     2.0\n",
       "2     83734.0     2.0\n",
       "5     83737.0     2.0\n",
       "22    83754.0     2.0\n",
       "23    83755.0     2.0\n",
       "...       ...     ...\n",
       "9940  93672.0     2.0\n",
       "9947  93679.0     2.0\n",
       "9957  93689.0     2.0\n",
       "9963  93695.0     2.0\n",
       "9965  93697.0     1.0\n",
       "\n",
       "[1900 rows x 2 columns]"
      ]
     },
     "execution_count": 34,
     "metadata": {},
     "output_type": "execute_result"
    }
   ],
   "source": [
    "df2016_raw = pd.read_sas('DBQ_I.xpt')\n",
    "df2016 = df2016_raw[['SEQN', 'DBQ301']]\n",
    "df2016_clean = df2016[df2016['DBQ301'] <= 2]\n",
    "df2016_final = df2016_clean.dropna()\n",
    "print(f\"mean: {df2016_final[['DBQ301']].mean()}\")\n",
    "df2016_final"
   ]
  },
  {
   "cell_type": "code",
   "execution_count": 35,
   "id": "17b3d619-c29a-4a90-a32c-d90d673ce68a",
   "metadata": {},
   "outputs": [
    {
     "name": "stdout",
     "output_type": "stream",
     "text": [
      "4.7368421052631575\n"
     ]
    }
   ],
   "source": [
    "count_yes_2016 = len(df2016_final[df2016_final['DBQ301'] == 1])\n",
    "count_no_2016 = len(df2016_final[df2016_final['DBQ301'] == 2])\n",
    "percentage_of_yes_2016 = 100*count_yes_2016/(count_yes_2016 + count_no_2016)\n",
    "print(percentage_of_yes_2016)"
   ]
  },
  {
   "cell_type": "markdown",
   "id": "4f6e57af-1679-42f3-b607-d1aa2c151358",
   "metadata": {},
   "source": [
    "Data from 2017-2018"
   ]
  },
  {
   "cell_type": "code",
   "execution_count": 36,
   "id": "f39951ff-7a58-4a89-ba36-24f1efb540cc",
   "metadata": {},
   "outputs": [
    {
     "name": "stdout",
     "output_type": "stream",
     "text": [
      "mean: DBQ301    1.957209\n",
      "dtype: float64\n"
     ]
    },
    {
     "data": {
      "text/html": [
       "<div>\n",
       "<style scoped>\n",
       "    .dataframe tbody tr th:only-of-type {\n",
       "        vertical-align: middle;\n",
       "    }\n",
       "\n",
       "    .dataframe tbody tr th {\n",
       "        vertical-align: top;\n",
       "    }\n",
       "\n",
       "    .dataframe thead th {\n",
       "        text-align: right;\n",
       "    }\n",
       "</style>\n",
       "<table border=\"1\" class=\"dataframe\">\n",
       "  <thead>\n",
       "    <tr style=\"text-align: right;\">\n",
       "      <th></th>\n",
       "      <th>SEQN</th>\n",
       "      <th>DBQ301</th>\n",
       "    </tr>\n",
       "  </thead>\n",
       "  <tbody>\n",
       "    <tr>\n",
       "      <th>2</th>\n",
       "      <td>93705.0</td>\n",
       "      <td>2.0</td>\n",
       "    </tr>\n",
       "    <tr>\n",
       "      <th>5</th>\n",
       "      <td>93708.0</td>\n",
       "      <td>2.0</td>\n",
       "    </tr>\n",
       "    <tr>\n",
       "      <th>6</th>\n",
       "      <td>93709.0</td>\n",
       "      <td>2.0</td>\n",
       "    </tr>\n",
       "    <tr>\n",
       "      <th>10</th>\n",
       "      <td>93713.0</td>\n",
       "      <td>2.0</td>\n",
       "    </tr>\n",
       "    <tr>\n",
       "      <th>12</th>\n",
       "      <td>93715.0</td>\n",
       "      <td>2.0</td>\n",
       "    </tr>\n",
       "    <tr>\n",
       "      <th>...</th>\n",
       "      <td>...</td>\n",
       "      <td>...</td>\n",
       "    </tr>\n",
       "    <tr>\n",
       "      <th>9237</th>\n",
       "      <td>102940.0</td>\n",
       "      <td>2.0</td>\n",
       "    </tr>\n",
       "    <tr>\n",
       "      <th>9243</th>\n",
       "      <td>102946.0</td>\n",
       "      <td>2.0</td>\n",
       "    </tr>\n",
       "    <tr>\n",
       "      <th>9244</th>\n",
       "      <td>102947.0</td>\n",
       "      <td>2.0</td>\n",
       "    </tr>\n",
       "    <tr>\n",
       "      <th>9247</th>\n",
       "      <td>102950.0</td>\n",
       "      <td>2.0</td>\n",
       "    </tr>\n",
       "    <tr>\n",
       "      <th>9249</th>\n",
       "      <td>102952.0</td>\n",
       "      <td>2.0</td>\n",
       "    </tr>\n",
       "  </tbody>\n",
       "</table>\n",
       "<p>2150 rows × 2 columns</p>\n",
       "</div>"
      ],
      "text/plain": [
       "          SEQN  DBQ301\n",
       "2      93705.0     2.0\n",
       "5      93708.0     2.0\n",
       "6      93709.0     2.0\n",
       "10     93713.0     2.0\n",
       "12     93715.0     2.0\n",
       "...        ...     ...\n",
       "9237  102940.0     2.0\n",
       "9243  102946.0     2.0\n",
       "9244  102947.0     2.0\n",
       "9247  102950.0     2.0\n",
       "9249  102952.0     2.0\n",
       "\n",
       "[2150 rows x 2 columns]"
      ]
     },
     "execution_count": 36,
     "metadata": {},
     "output_type": "execute_result"
    }
   ],
   "source": [
    "df2018_raw = pd.read_sas('DBQ_J.xpt')\n",
    "df2018 = df2018_raw[['SEQN', 'DBQ301']]\n",
    "df2018_clean = df2018[df2018['DBQ301'] <= 2]\n",
    "df2018_final = df2018_clean.dropna()\n",
    "print(f\"mean: {df2018_final[['DBQ301']].mean()}\")\n",
    "df2018_final"
   ]
  },
  {
   "cell_type": "code",
   "execution_count": 37,
   "id": "52e894b4-51f9-4261-b36c-9520146ba6bf",
   "metadata": {},
   "outputs": [
    {
     "name": "stdout",
     "output_type": "stream",
     "text": [
      "4.27906976744186\n"
     ]
    }
   ],
   "source": [
    "count_yes_2018 = len(df2018_final[df2018_final['DBQ301'] == 1])\n",
    "count_no_2018 = len(df2018_final[df2018_final['DBQ301'] == 2])\n",
    "percentage_of_yes_2018 = 100*count_yes_2018/(count_yes_2018 + count_no_2018)\n",
    "print(percentage_of_yes_2018)"
   ]
  },
  {
   "cell_type": "markdown",
   "id": "0c7c65f5-10cc-4c06-b2a1-e80ec6d3c3f9",
   "metadata": {},
   "source": [
    "Data from 2017 - March 2020 (pre-pandemic)"
   ]
  },
  {
   "cell_type": "code",
   "execution_count": 38,
   "id": "6b9dc705-cab9-487d-acb9-a797eef92f05",
   "metadata": {},
   "outputs": [
    {
     "name": "stdout",
     "output_type": "stream",
     "text": [
      "mean: DBQ301    1.955289\n",
      "dtype: float64\n"
     ]
    },
    {
     "data": {
      "text/html": [
       "<div>\n",
       "<style scoped>\n",
       "    .dataframe tbody tr th:only-of-type {\n",
       "        vertical-align: middle;\n",
       "    }\n",
       "\n",
       "    .dataframe tbody tr th {\n",
       "        vertical-align: top;\n",
       "    }\n",
       "\n",
       "    .dataframe thead th {\n",
       "        text-align: right;\n",
       "    }\n",
       "</style>\n",
       "<table border=\"1\" class=\"dataframe\">\n",
       "  <thead>\n",
       "    <tr style=\"text-align: right;\">\n",
       "      <th></th>\n",
       "      <th>SEQN</th>\n",
       "      <th>DBQ301</th>\n",
       "    </tr>\n",
       "  </thead>\n",
       "  <tbody>\n",
       "    <tr>\n",
       "      <th>11</th>\n",
       "      <td>109274.0</td>\n",
       "      <td>2.0</td>\n",
       "    </tr>\n",
       "    <tr>\n",
       "      <th>19</th>\n",
       "      <td>109282.0</td>\n",
       "      <td>2.0</td>\n",
       "    </tr>\n",
       "    <tr>\n",
       "      <th>27</th>\n",
       "      <td>109290.0</td>\n",
       "      <td>2.0</td>\n",
       "    </tr>\n",
       "    <tr>\n",
       "      <th>35</th>\n",
       "      <td>109298.0</td>\n",
       "      <td>2.0</td>\n",
       "    </tr>\n",
       "    <tr>\n",
       "      <th>50</th>\n",
       "      <td>109313.0</td>\n",
       "      <td>2.0</td>\n",
       "    </tr>\n",
       "    <tr>\n",
       "      <th>...</th>\n",
       "      <td>...</td>\n",
       "      <td>...</td>\n",
       "    </tr>\n",
       "    <tr>\n",
       "      <th>15549</th>\n",
       "      <td>124812.0</td>\n",
       "      <td>2.0</td>\n",
       "    </tr>\n",
       "    <tr>\n",
       "      <th>15551</th>\n",
       "      <td>124814.0</td>\n",
       "      <td>2.0</td>\n",
       "    </tr>\n",
       "    <tr>\n",
       "      <th>15554</th>\n",
       "      <td>124817.0</td>\n",
       "      <td>2.0</td>\n",
       "    </tr>\n",
       "    <tr>\n",
       "      <th>15558</th>\n",
       "      <td>124821.0</td>\n",
       "      <td>2.0</td>\n",
       "    </tr>\n",
       "    <tr>\n",
       "      <th>15559</th>\n",
       "      <td>124822.0</td>\n",
       "      <td>2.0</td>\n",
       "    </tr>\n",
       "  </tbody>\n",
       "</table>\n",
       "<p>3422 rows × 2 columns</p>\n",
       "</div>"
      ],
      "text/plain": [
       "           SEQN  DBQ301\n",
       "11     109274.0     2.0\n",
       "19     109282.0     2.0\n",
       "27     109290.0     2.0\n",
       "35     109298.0     2.0\n",
       "50     109313.0     2.0\n",
       "...         ...     ...\n",
       "15549  124812.0     2.0\n",
       "15551  124814.0     2.0\n",
       "15554  124817.0     2.0\n",
       "15558  124821.0     2.0\n",
       "15559  124822.0     2.0\n",
       "\n",
       "[3422 rows x 2 columns]"
      ]
     },
     "execution_count": 38,
     "metadata": {},
     "output_type": "execute_result"
    }
   ],
   "source": [
    "df2020_raw = pd.read_sas('P_DBQ.xpt')\n",
    "df2020 = df2020_raw[['SEQN', 'DBQ301']]\n",
    "df2020_clean = df2020[df2020['DBQ301'] <= 2]\n",
    "df2020_final = df2020_clean.dropna()\n",
    "print(f\"mean: {df2020_final[['DBQ301']].mean()}\")\n",
    "df2020_final"
   ]
  },
  {
   "cell_type": "code",
   "execution_count": 39,
   "id": "6a1ba73f-5884-4c4d-a691-011820cd6ed4",
   "metadata": {},
   "outputs": [
    {
     "name": "stdout",
     "output_type": "stream",
     "text": [
      "4.471069549970777\n"
     ]
    }
   ],
   "source": [
    "count_yes_2020 = len(df2020_final[df2020_final['DBQ301'] == 1])\n",
    "count_no_2020 = len(df2020_final[df2020_final['DBQ301'] == 2])\n",
    "percentage_of_yes_2020 = 100*count_yes_2020/(count_yes_2020 + count_no_2020)\n",
    "print(percentage_of_yes_2020)"
   ]
  },
  {
   "cell_type": "markdown",
   "id": "5febcf1e-e2af-4d32-a447-550b42dd1936",
   "metadata": {},
   "source": [
    "Data from August 2021 - August 2023"
   ]
  },
  {
   "cell_type": "code",
   "execution_count": 42,
   "id": "e2ff6bda-0604-4da2-b86a-503fc8f5aeb2",
   "metadata": {},
   "outputs": [
    {
     "name": "stdout",
     "output_type": "stream",
     "text": [
      "mean: DBQ301    1.950286\n",
      "dtype: float64\n"
     ]
    },
    {
     "data": {
      "text/html": [
       "<div>\n",
       "<style scoped>\n",
       "    .dataframe tbody tr th:only-of-type {\n",
       "        vertical-align: middle;\n",
       "    }\n",
       "\n",
       "    .dataframe tbody tr th {\n",
       "        vertical-align: top;\n",
       "    }\n",
       "\n",
       "    .dataframe thead th {\n",
       "        text-align: right;\n",
       "    }\n",
       "</style>\n",
       "<table border=\"1\" class=\"dataframe\">\n",
       "  <thead>\n",
       "    <tr style=\"text-align: right;\">\n",
       "      <th></th>\n",
       "      <th>SEQN</th>\n",
       "      <th>DBQ301</th>\n",
       "    </tr>\n",
       "  </thead>\n",
       "  <tbody>\n",
       "    <tr>\n",
       "      <th>1</th>\n",
       "      <td>130379.0</td>\n",
       "      <td>2.0</td>\n",
       "    </tr>\n",
       "    <tr>\n",
       "      <th>7</th>\n",
       "      <td>130385.0</td>\n",
       "      <td>2.0</td>\n",
       "    </tr>\n",
       "    <tr>\n",
       "      <th>9</th>\n",
       "      <td>130387.0</td>\n",
       "      <td>2.0</td>\n",
       "    </tr>\n",
       "    <tr>\n",
       "      <th>14</th>\n",
       "      <td>130392.0</td>\n",
       "      <td>2.0</td>\n",
       "    </tr>\n",
       "    <tr>\n",
       "      <th>19</th>\n",
       "      <td>130397.0</td>\n",
       "      <td>2.0</td>\n",
       "    </tr>\n",
       "    <tr>\n",
       "      <th>...</th>\n",
       "      <td>...</td>\n",
       "      <td>...</td>\n",
       "    </tr>\n",
       "    <tr>\n",
       "      <th>11923</th>\n",
       "      <td>142301.0</td>\n",
       "      <td>2.0</td>\n",
       "    </tr>\n",
       "    <tr>\n",
       "      <th>11924</th>\n",
       "      <td>142302.0</td>\n",
       "      <td>2.0</td>\n",
       "    </tr>\n",
       "    <tr>\n",
       "      <th>11925</th>\n",
       "      <td>142303.0</td>\n",
       "      <td>2.0</td>\n",
       "    </tr>\n",
       "    <tr>\n",
       "      <th>11927</th>\n",
       "      <td>142305.0</td>\n",
       "      <td>1.0</td>\n",
       "    </tr>\n",
       "    <tr>\n",
       "      <th>11932</th>\n",
       "      <td>142310.0</td>\n",
       "      <td>2.0</td>\n",
       "    </tr>\n",
       "  </tbody>\n",
       "</table>\n",
       "<p>3500 rows × 2 columns</p>\n",
       "</div>"
      ],
      "text/plain": [
       "           SEQN  DBQ301\n",
       "1      130379.0     2.0\n",
       "7      130385.0     2.0\n",
       "9      130387.0     2.0\n",
       "14     130392.0     2.0\n",
       "19     130397.0     2.0\n",
       "...         ...     ...\n",
       "11923  142301.0     2.0\n",
       "11924  142302.0     2.0\n",
       "11925  142303.0     2.0\n",
       "11927  142305.0     1.0\n",
       "11932  142310.0     2.0\n",
       "\n",
       "[3500 rows x 2 columns]"
      ]
     },
     "execution_count": 42,
     "metadata": {},
     "output_type": "execute_result"
    }
   ],
   "source": [
    "df2023_raw = pd.read_sas('DBQ_L.xpt')\n",
    "df2023 = df2023_raw[['SEQN', 'DBQ301']]\n",
    "df2023_clean = df2023[df2023['DBQ301'] <= 2]\n",
    "df2023_final = df2023_clean.dropna()\n",
    "print(f\"mean: {df2023_final[['DBQ301']].mean()}\")\n",
    "df2023_final"
   ]
  },
  {
   "cell_type": "code",
   "execution_count": 43,
   "id": "b6ee95ad-7f0e-4f88-9baf-5ba63ac850ea",
   "metadata": {},
   "outputs": [
    {
     "name": "stdout",
     "output_type": "stream",
     "text": [
      "4.9714285714285715\n"
     ]
    }
   ],
   "source": [
    "count_yes_2023 = len(df2023_final[df2023_final['DBQ301'] == 1])\n",
    "count_no_2023 = len(df2023_final[df2023_final['DBQ301'] == 2])\n",
    "percentage_of_yes_2023 = 100*count_yes_2023/(count_yes_2023 + count_no_2023)\n",
    "print(percentage_of_yes_2023)"
   ]
  },
  {
   "cell_type": "markdown",
   "id": "d698a2f3-e7df-46eb-aca6-2d6f41347bae",
   "metadata": {},
   "source": [
    "Bringing it all together"
   ]
  },
  {
   "cell_type": "code",
   "execution_count": 45,
   "id": "d2c2048f-c84f-41fd-8dc9-176718287fe4",
   "metadata": {},
   "outputs": [
    {
     "data": {
      "text/html": [
       "<div>\n",
       "<style scoped>\n",
       "    .dataframe tbody tr th:only-of-type {\n",
       "        vertical-align: middle;\n",
       "    }\n",
       "\n",
       "    .dataframe tbody tr th {\n",
       "        vertical-align: top;\n",
       "    }\n",
       "\n",
       "    .dataframe thead th {\n",
       "        text-align: right;\n",
       "    }\n",
       "</style>\n",
       "<table border=\"1\" class=\"dataframe\">\n",
       "  <thead>\n",
       "    <tr style=\"text-align: right;\">\n",
       "      <th></th>\n",
       "      <th>year</th>\n",
       "      <th>percentage_of_yes</th>\n",
       "    </tr>\n",
       "  </thead>\n",
       "  <tbody>\n",
       "    <tr>\n",
       "      <th>0</th>\n",
       "      <td>2004</td>\n",
       "      <td>5.102578</td>\n",
       "    </tr>\n",
       "    <tr>\n",
       "      <th>1</th>\n",
       "      <td>2006</td>\n",
       "      <td>3.569152</td>\n",
       "    </tr>\n",
       "    <tr>\n",
       "      <th>2</th>\n",
       "      <td>2008</td>\n",
       "      <td>3.345725</td>\n",
       "    </tr>\n",
       "    <tr>\n",
       "      <th>3</th>\n",
       "      <td>2010</td>\n",
       "      <td>2.702703</td>\n",
       "    </tr>\n",
       "    <tr>\n",
       "      <th>4</th>\n",
       "      <td>2012</td>\n",
       "      <td>4.026846</td>\n",
       "    </tr>\n",
       "    <tr>\n",
       "      <th>5</th>\n",
       "      <td>2014</td>\n",
       "      <td>3.804348</td>\n",
       "    </tr>\n",
       "    <tr>\n",
       "      <th>6</th>\n",
       "      <td>2016</td>\n",
       "      <td>4.736842</td>\n",
       "    </tr>\n",
       "    <tr>\n",
       "      <th>7</th>\n",
       "      <td>2018</td>\n",
       "      <td>4.279070</td>\n",
       "    </tr>\n",
       "    <tr>\n",
       "      <th>8</th>\n",
       "      <td>2020</td>\n",
       "      <td>4.471070</td>\n",
       "    </tr>\n",
       "    <tr>\n",
       "      <th>9</th>\n",
       "      <td>2023</td>\n",
       "      <td>4.971429</td>\n",
       "    </tr>\n",
       "  </tbody>\n",
       "</table>\n",
       "</div>"
      ],
      "text/plain": [
       "   year  percentage_of_yes\n",
       "0  2004           5.102578\n",
       "1  2006           3.569152\n",
       "2  2008           3.345725\n",
       "3  2010           2.702703\n",
       "4  2012           4.026846\n",
       "5  2014           3.804348\n",
       "6  2016           4.736842\n",
       "7  2018           4.279070\n",
       "8  2020           4.471070\n",
       "9  2023           4.971429"
      ]
     },
     "execution_count": 45,
     "metadata": {},
     "output_type": "execute_result"
    }
   ],
   "source": [
    "data = {'year': [2004, 2006, 2008, 2010, 2012, 2014, 2016, 2018, 2020, 2023], 'percentage_of_yes': [percentage_of_yes_2004, percentage_of_yes_2006, percentage_of_yes_2008, percentage_of_yes_2010, percentage_of_yes_2012, percentage_of_yes_2014, percentage_of_yes_2016, percentage_of_yes_2018, percentage_of_yes_2020, percentage_of_yes_2023]}\n",
    "df = pd.DataFrame(data)\n",
    "df"
   ]
  },
  {
   "cell_type": "code",
   "execution_count": 77,
   "id": "9c66392a-c328-4c60-a49e-ce77cae2c374",
   "metadata": {},
   "outputs": [
    {
     "data": {
      "text/plain": [
       "<matplotlib.legend.Legend at 0x78eca57a2f80>"
      ]
     },
     "execution_count": 77,
     "metadata": {},
     "output_type": "execute_result"
    },
    {
     "data": {
      "image/png": "[encoded data removed]",
      "text/plain": [
       "<Figure size 640x480 with 1 Axes>"
      ]
     },
     "metadata": {},
     "output_type": "display_data"
    }
   ],
   "source": [
    "df.plot('year', 'percentage_of_yes', label='')\n",
    "my_ticks = [2004, 2006, 2008, 2010, 2012, 2014, 2016, 2018, 2020, 2023]\n",
    "my_labels = ['2004', '2006', '2008', '2010', '2012', '2014', '2016', '2018', '2020', '2023']\n",
    "plt.xticks(my_ticks, my_labels)\n",
    "plt.xlabel('Year')\n",
    "plt.ylabel('Percentage Responding Yes')\n",
    "plt.title('Americans who Utilized a Community/Government Food Delivery Program')\n",
    "plt.vlines(x=2004, ymin=2, ymax=5.102578, color='r', linestyle='--', linewidth=1, label=f'Election of George W. Bush (R)')\n",
    "plt.vlines(x=2008, ymin=2, ymax=3.345725, color='b', linestyle='--', linewidth=1, label=f'Election of Barack Obama (D)')\n",
    "plt.vlines(x=2010, ymin=2, ymax=2.702703, color='k', linestyle='--', linewidth=1, label=f'Affordable Care Act Signed into Law')\n",
    "plt.vlines(x=2016, ymin=2, ymax=4.736842, color='r', linestyle='--', linewidth=1, label=f'Election of Donald Trump (R)')\n",
    "plt.vlines(x=2020, ymin=2, ymax=4.471070, color='g', linestyle='--', linewidth=1, label=f'COVID Pandemic Starts')\n",
    "plt.legend(loc='best')"
   ]
  }
 ],
 "metadata": {
  "kernelspec": {
   "display_name": "anaconda-2024.02-py310",
   "language": "python",
   "name": "conda-env-anaconda-2024.02-py310-py"
  },
  "language_info": {
   "codemirror_mode": {
    "name": "ipython",
    "version": 3
   },
   "file_extension": ".py",
   "mimetype": "text/x-python",
   "name": "python",
   "nbconvert_exporter": "python",
   "pygments_lexer": "ipython3",
   "version": "3.10.14"
  }
 },
 "nbformat": 4,
 "nbformat_minor": 5
}
